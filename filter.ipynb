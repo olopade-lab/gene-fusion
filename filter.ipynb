{
 "cells": [
  {
   "cell_type": "code",
   "execution_count": 41,
   "metadata": {},
   "outputs": [],
   "source": [
    "import os\n",
    "import glob\n",
    "import re\n",
    "\n",
    "import pandas as pd\n",
    "from matplotlib_venn import venn3, venn3_circles\n",
    "import matplotlib.pyplot as plt"
   ]
  },
  {
   "cell_type": "code",
   "execution_count": 2,
   "metadata": {},
   "outputs": [],
   "source": [
    "files = glob.glob('/cephfs/users/annawoodard/gene-fusion/results_v1/*/*/star-fusion.fusion_predictions.tsv')\n",
    "\n",
    "def parse_data(path):\n",
    "    df = pd.read_table(path)\n",
    "    patient, sample = path.split('/')[6:8]\n",
    "    df['patient'] = patient\n",
    "    df['sample'] = sample\n",
    "    \n",
    "    return df\n",
    "\n",
    "dfs = [parse_data(f) for f in files]\n",
    "data = pd.concat(dfs)"
   ]
  },
  {
   "cell_type": "code",
   "execution_count": 9,
   "metadata": {},
   "outputs": [],
   "source": [
    "cutflow = {}"
   ]
  },
  {
   "cell_type": "code",
   "execution_count": 31,
   "metadata": {},
   "outputs": [],
   "source": [
    "# tcga.normal.id appears to be identical list\n",
    "tcga_normal = pd.read_table('/cephfs/users/annawoodard/gene-fusion/CPTAC3-RNA-related-pipeline/FilterDatabase/tcga.normal.txt', names=['cancer', 'sample', 'fusion'])\n",
    "cutflow['tcga normal'] = data.loc[data['#FusionName'].isin(tcga_normal.fusion), '#FusionName']"
   ]
  },
  {
   "cell_type": "code",
   "execution_count": 32,
   "metadata": {},
   "outputs": [],
   "source": [
    "noncancer_cell = pd.read_table('/cephfs/users/annawoodard/gene-fusion/CPTAC3-RNA-related-pipeline/FilterDatabase/noncancer_cell.txt', names=['fusion'])\n",
    "cutflow['noncancer cell'] = data.loc[data['#FusionName'].isin(noncancer_cell.fusion), '#FusionName']"
   ]
  },
  {
   "cell_type": "code",
   "execution_count": 33,
   "metadata": {},
   "outputs": [],
   "source": [
    "gtex_or_paralogue = pd.read_table('/cephfs/users/annawoodard/gene-fusion/CPTAC3-RNA-related-pipeline/FilterDatabase/blacklist.manual', names=['fusion'])\n",
    "cutflow['gtex or paralogue'] = data.loc[data['#FusionName'].isin(gtex_or_paralogue.fusion), '#FusionName']"
   ]
  },
  {
   "cell_type": "code",
   "execution_count": 42,
   "metadata": {},
   "outputs": [
    {
     "data": {
      "text/plain": [
       "Text(0.5, 1.0, 'unique fusions filtered')"
      ]
     },
     "execution_count": 42,
     "metadata": {},
     "output_type": "execute_result"
    },
    {
     "data": {
      "image/png": "[encoded data removed]",
      "text/plain": [
       "<Figure size 432x288 with 1 Axes>"
      ]
     },
     "metadata": {},
     "output_type": "display_data"
    }
   ],
   "source": [
    "items = cutflow.items()\n",
    "venn3([set(values) for key, values in items], set_labels = [key for key, values in items])\n",
    "plt.title('unique fusions filtered')"
   ]
  },
  {
   "cell_type": "code",
   "execution_count": 52,
   "metadata": {},
   "outputs": [
    {
     "name": "stdout",
     "output_type": "stream",
     "text": [
      "150 fusions filtered / 4732 total fusions\n"
     ]
    }
   ],
   "source": [
    "print('{} fusions filtered / {} total fusions'.format(\n",
    "    sum([len(values) for values in cutflow.values()]),\n",
    "    len(data)\n",
    "    )\n",
    ")"
   ]
  },
  {
   "cell_type": "code",
   "execution_count": 55,
   "metadata": {},
   "outputs": [],
   "source": [
    "data.to_parquet('/cephfs/users/annawoodard/gene-fusion/fusions.parquet')"
   ]
  },
  {
   "cell_type": "code",
   "execution_count": null,
   "metadata": {},
   "outputs": [],
   "source": []
  }
 ],
 "metadata": {
  "kernelspec": {
   "display_name": "Python 3",
   "language": "python",
   "name": "python3"
  },
  "language_info": {
   "codemirror_mode": {
    "name": "ipython",
    "version": 3
   },
   "file_extension": ".py",
   "mimetype": "text/x-python",
   "name": "python",
   "nbconvert_exporter": "python",
   "pygments_lexer": "ipython3",
   "version": "3.7.5"
  }
 },
 "nbformat": 4,
 "nbformat_minor": 2
}
