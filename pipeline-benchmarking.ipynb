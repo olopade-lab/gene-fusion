{
 "cells": [
  {
   "cell_type": "code",
   "execution_count": 1,
   "metadata": {},
   "outputs": [],
   "source": [
    "import os\n",
    "import glob\n",
    "import re\n",
    "import itertools\n",
    "\n",
    "import pandas as pd\n",
    "pd.options.display.max_columns = None\n",
    "import numpy as np\n",
    "import seaborn as sns\n",
    "import matplotlib.pyplot as plt"
   ]
  },
  {
   "cell_type": "code",
   "execution_count": 34,
   "metadata": {},
   "outputs": [],
   "source": [
    "benchmarking_dir = '/cephfs/users/annawoodard/gene-fusion/FusionBenchmarking'\n",
    "analysis_dir = 'simulated_data/sim_101'\n",
    "ctat_dir = '/cephfs/users/annawoodard/gene-fusion/GRCh38_gencode_v31_CTAT_lib_Oct012019.plug-n-play/ctat_genome_lib_build_dir'"
   ]
  },
  {
   "cell_type": "code",
   "execution_count": 29,
   "metadata": {},
   "outputs": [],
   "source": [
    "command = (\n",
    "    \"docker run -v {}:/data trinityctat/fusionbenchmarking \"\n",
    "    \"bash -c \"\n",
    "    \"'find /data/{}/samples -type f | /data/util/make_file_listing_input_table.pl'\"\n",
    ").format(benchmarking_dir, analysis_dir)\n",
    "\n",
    "!$command > $benchmarking_dir/$analysis_dir/simulated_datafusion_result_file_listing.dat"
   ]
  },
  {
   "cell_type": "code",
   "execution_count": 24,
   "metadata": {},
   "outputs": [
    {
     "name": "stdout",
     "output_type": "stream",
     "text": [
      "docker run -v /cephfs/users/annawoodard/gene-fusion/FusionBenchmarking:/data trinityctat/fusionbenchmarking bash -c '/usr/local/src/FusionBenchmarking/benchmarking/collect_preds.pl /data/simulated_data/sim_101/simulated_datafusion_result_file_listing.dat'\n"
     ]
    }
   ],
   "source": [
    "command = (\n",
    "    \"docker run -v {}:/data trinityctat/fusionbenchmarking \"\n",
    "    \"bash -c \"\n",
    "    \"'/usr/local/src/FusionBenchmarking/benchmarking/collect_preds.pl \"\n",
    "    \"/data/{}/simulated_datafusion_result_file_listing.dat'\"\n",
    ").format(benchmarking_dir, analysis_dir)\n",
    "!$command > $benchmarking_dir/$analysis_dir/preds.collected"
   ]
  },
  {
   "cell_type": "code",
   "execution_count": 32,
   "metadata": {},
   "outputs": [
    {
     "name": "stdout",
     "output_type": "stream",
     "text": [
      "docker run -v /cephfs/users/annawoodard/gene-fusion/FusionBenchmarking:/data trinityctat/fusionbenchmarking bash -c '/usr/local/src/FusionBenchmarking/benchmarking/map_gene_symbols_to_gencode.pl /data/simulated_data/sim_101/preds.collected /data/resources/genes.coords.gz /data/resources/genes.aliases'\n",
      "-parsing annotation gene spans\n",
      "-warning, no gene stored for identifier: [TRB@]\n",
      "-warning, no gene stored for identifier: [TRG@]\n",
      "-warning, no gene stored for identifier: [C8ORF44-SGK3]\n",
      "-warning, no gene stored for identifier: [x]\n",
      "-warning, no gene stored for identifier: [C1ORF234]\n",
      "-warning, no gene stored for identifier: [C21ORF59-TCP10L]\n",
      "-warning, no gene stored for identifier: [snoU13]\n",
      "-warning, no gene stored for identifier: [C5ORF67]\n",
      "-warning, no gene stored for identifier: [C17ORF112]\n",
      "-warning, no gene stored for identifier: [C7ORF55-LUC7L2]\n"
     ]
    }
   ],
   "source": [
    "command = (\n",
    "    \"docker run -v {}:/data trinityctat/fusionbenchmarking \"\n",
    "    \"bash -c '\"\n",
    "    \"/usr/local/src/FusionBenchmarking/benchmarking/map_gene_symbols_to_gencode.pl \"\n",
    "    \"/data/{}/preds.collected \"\n",
    "    \"/data/resources/genes.coords.gz /data/resources/genes.aliases'\"\n",
    ").format(benchmarking_dir, analysis_dir)\n",
    "\n",
    "!$command > $benchmarking_dir/$analysis_dir/preds.collected.gencode_mapped"
   ]
  },
  {
   "cell_type": "code",
   "execution_count": null,
   "metadata": {},
   "outputs": [],
   "source": [
    "!docker run -v /cephfs/users/annawoodard/gene-fusion/GRCh38_gencode_v31_CTAT_lib_Oct012019.plug-n-play/ctat_genome_lib_build_dir:/ctat_genome_lib_build_dir -v /cephfs/users/annawoodard/gene-fusion/data/interim/fusions.tsv:/fusions.tsv trinityctat/starfusion:1.8.0 /usr/local/src/STAR-Fusion/FusionInspector/FusionAnnotator/FusionAnnotator --annotate /fusions.tsv --full --genome_lib_dir /ctat_genome_lib_build_dir/ > /cephfs/users/annawoodard/gene-fusion/data/interim/annotated_fusions.tsv"
   ]
  },
  {
   "cell_type": "code",
   "execution_count": 35,
   "metadata": {},
   "outputs": [],
   "source": [
    "command = (\n",
    "    \"docker run \"\n",
    "    \"-v {}:/ctat_genome_lib_build_dir \"\n",
    "    \"-v {}:/data \"\n",
    "    \"trinityctat/fusionbenchmarking \"\n",
    "    \"bash -c '\"\n",
    "    \"FusionAnnotator/FusionAnnotator \"\n",
    "    \"--annotate /data/{}/preds.collected.gencode_mapped -C 2 --genome_lib_dir /ctat_genome_lib_build_dir/'\"\n",
    ").format(ctat_dir, benchmarking_dir, analysis_dir)\n",
    "\n",
    "!$command > $benchmarking_dir/$analysis_dir/preds.collected.gencode_mapped.wAnnot"
   ]
  },
  {
   "cell_type": "code",
   "execution_count": 36,
   "metadata": {},
   "outputs": [],
   "source": [
    "command = (\n",
    "    \"docker run -v {}:/data trinityctat/fusionbenchmarking \"\n",
    "    \"bash -c \"\n",
    "    \"'/usr/local/src/FusionBenchmarking/benchmarking/filter_collected_preds.pl \"\n",
    "    \"/data/{}/preds.collected.gencode_mapped.wAnnot'\"\n",
    ").format(benchmarking_dir, analysis_dir)\n",
    "!$command > $benchmarking_dir/$analysis_dir/preds.collected.gencode_mapped.wAnnot.filt"
   ]
  },
  {
   "cell_type": "code",
   "execution_count": null,
   "metadata": {},
   "outputs": [],
   "source": []
  }
 ],
 "metadata": {
  "kernelspec": {
   "display_name": "Python 3",
   "language": "python",
   "name": "python3"
  },
  "language_info": {
   "codemirror_mode": {
    "name": "ipython",
    "version": 3
   },
   "file_extension": ".py",
   "mimetype": "text/x-python",
   "name": "python",
   "nbconvert_exporter": "python",
   "pygments_lexer": "ipython3",
   "version": "3.7.0"
  }
 },
 "nbformat": 4,
 "nbformat_minor": 2
}
